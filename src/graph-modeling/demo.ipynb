{
 "cells": [
  {
   "cell_type": "markdown",
   "metadata": {},
   "source": [
    "### Kiến trúc mô hình GCN\n",
    "\n",
    "- 6 lớp GCN (nhằm đảm bảo thông tin được lan truyền giữa các node): Có tác dụng cập nhật embedding của course thông qua các thực thể có liên quan.\n",
    "- 1 lớp Linear cuối cùng: phân loại chất lượng của khóa học dựa vào embedding của course"
   ]
  },
  {
   "cell_type": "markdown",
   "metadata": {},
   "source": [
    "### Train GCN model"
   ]
  },
  {
   "cell_type": "code",
   "execution_count": null,
   "metadata": {},
   "outputs": [
    {
     "name": "stdout",
     "output_type": "stream",
     "text": [
      "python3: can't open file '/home/ptdat/Desktop/graph/src/graph-modeling/graph-modeling/train.py': [Errno 2] No such file or directory\n"
     ]
    }
   ],
   "source": [
    "!python3 train.py \\\n",
    "    --epochs=5 \\\n",
    "    -lr=1e-3 \\\n",
    "    --grad-clip=1 \\\n",
    "    --val-percent=0.1 \\\n",
    "    --weight-decay=0 \\\n",
    "    --grad-accum=1"
   ]
  },
  {
   "cell_type": "markdown",
   "metadata": {},
   "source": [
    "### Demo mô hình GCN"
   ]
  },
  {
   "cell_type": "code",
   "execution_count": 2,
   "metadata": {},
   "outputs": [
    {
     "name": "stdout",
     "output_type": "stream",
     "text": [
      "Load lại model đã được huấn luyện\n"
     ]
    },
    {
     "data": {
      "text/plain": [
       "<All keys matched successfully>"
      ]
     },
     "execution_count": 2,
     "metadata": {},
     "output_type": "execute_result"
    }
   ],
   "source": [
    "# Load model\n",
    "import torch\n",
    "from modeling.modules import HeteroGNN\n",
    "\n",
    "print(\"Load lại model đã được huấn luyện\")\n",
    "model = HeteroGNN(\n",
    "    hidden_channels=128, \n",
    "    out_channels=3, \n",
    "    num_layers=6\n",
    ")\n",
    "model.load_state_dict(torch.load(\"/home/ptdat/Desktop/graph/checkpoints/epoch-2.pth\", weights_only=False))"
   ]
  },
  {
   "cell_type": "code",
   "execution_count": 3,
   "metadata": {},
   "outputs": [
    {
     "name": "stdout",
     "output_type": "stream",
     "text": [
      "Lấy mẫu 1 đồ thị thuộc dataset:\n",
      "\n",
      "{'_id': 'C_677009', 'data': HeteroData(\n",
      "  course={ x=[1, 2049] },\n",
      "  field={ x=[0, 1024] },\n",
      "  resource={ x=[47, 1024] },\n",
      "  school={ x=[429, 2048] },\n",
      "  teacher={ x=[4, 2048] },\n",
      "  user={ x=[3650, 3] },\n",
      "  comment={ x=[140, 1024] },\n",
      "  reply={ x=[9, 1024] },\n",
      "  exercise={ x=[69, 3072] },\n",
      "  video={ x=[0, 2048] },\n",
      "  (course, edge, field)={ edge_index=[2, 0] },\n",
      "  (course, edge, resource)={ edge_index=[2, 47] },\n",
      "  (course, edge, teacher)={ edge_index=[2, 4] },\n",
      "  (course, edge, school)={ edge_index=[2, 1] },\n",
      "  (course, edge, user)={ edge_index=[2, 3650] },\n",
      "  (course, edge, comment)={ edge_index=[2, 140] },\n",
      "  (comment, edge, reply)={ edge_index=[2, 9] },\n",
      "  (user, edge, comment)={ edge_index=[2, 140] },\n",
      "  (user, edge, reply)={ edge_index=[2, 9] },\n",
      "  (school, edge, user)={ edge_index=[2, 151] },\n",
      "  (school, edge, teacher)={ edge_index=[2, 4] },\n",
      "  (resource, edge, exercise)={ edge_index=[2, 69] },\n",
      "  (field, rev_edge, course)={ edge_index=[2, 0] },\n",
      "  (resource, rev_edge, course)={ edge_index=[2, 47] },\n",
      "  (teacher, rev_edge, course)={ edge_index=[2, 4] },\n",
      "  (school, rev_edge, course)={ edge_index=[2, 1] },\n",
      "  (user, rev_edge, course)={ edge_index=[2, 3650] },\n",
      "  (comment, rev_edge, course)={ edge_index=[2, 140] },\n",
      "  (reply, rev_edge, comment)={ edge_index=[2, 9] },\n",
      "  (comment, rev_edge, user)={ edge_index=[2, 140] },\n",
      "  (reply, rev_edge, user)={ edge_index=[2, 9] },\n",
      "  (user, rev_edge, school)={ edge_index=[2, 151] },\n",
      "  (teacher, rev_edge, school)={ edge_index=[2, 4] },\n",
      "  (exercise, rev_edge, resource)={ edge_index=[2, 69] }\n",
      "), 'label': tensor(2)}\n"
     ]
    }
   ],
   "source": [
    "# Ví dụ 1 sample\n",
    "from modeling.dataset import GraphDataset\n",
    "\n",
    "dataset = GraphDataset(\"/home/ptdat/Desktop/graph/samples\")\n",
    "sample = dataset[0]\n",
    "print(\"Lấy mẫu 1 đồ thị thuộc dataset:\\n\")\n",
    "print(sample)"
   ]
  },
  {
   "cell_type": "code",
   "execution_count": 4,
   "metadata": {},
   "outputs": [
    {
     "name": "stdout",
     "output_type": "stream",
     "text": [
      "Dự đoán: normal\n",
      "Nhãn: good\n"
     ]
    }
   ],
   "source": [
    "# Dự đoán 1 course\n",
    "with torch.inference_mode():\n",
    "    logits = model(sample[\"data\"].x_dict, sample[\"data\"].edge_index_dict)\n",
    "\n",
    "idx2label = {\n",
    "    0: \"bad\",\n",
    "    1: \"normal\",\n",
    "    2: \"good\"\n",
    "}\n",
    "pred = idx2label[logits[0].argmax().item()]\n",
    "truth = idx2label[sample[\"label\"].item()]\n",
    "\n",
    "print(f\"Dự đoán: {pred}\\nNhãn: {truth}\")"
   ]
  }
 ],
 "metadata": {
  "kernelspec": {
   "display_name": "venv",
   "language": "python",
   "name": "python3"
  },
  "language_info": {
   "codemirror_mode": {
    "name": "ipython",
    "version": 3
   },
   "file_extension": ".py",
   "mimetype": "text/x-python",
   "name": "python",
   "nbconvert_exporter": "python",
   "pygments_lexer": "ipython3",
   "version": "3.12.3"
  }
 },
 "nbformat": 4,
 "nbformat_minor": 2
}
